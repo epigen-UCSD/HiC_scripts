{
 "cells": [
  {
   "cell_type": "code",
   "execution_count": 2,
   "metadata": {},
   "outputs": [],
   "source": [
    "require(ggplot2)\n",
    "require(data.table)\n",
    "require(tidyverse)"
   ]
  },
  {
   "cell_type": "code",
   "execution_count": 3,
   "metadata": {
    "scrolled": false
   },
   "outputs": [],
   "source": [
    "sample <- \"RMM_308_1_2_3\""
   ]
  },
  {
   "cell_type": "code",
   "execution_count": 4,
   "metadata": {},
   "outputs": [],
   "source": [
    "loop_stats <- fread(\"./cicero_res_v2/beta_loops_log10_anchorDist_stats.csv\") %>% \n",
    "    filter(loop_set != \"cicero_m05_05\" | grepl(\"m1|m2\", loop_set))"
   ]
  },
  {
   "cell_type": "code",
   "execution_count": 5,
   "metadata": {},
   "outputs": [],
   "source": [
    "getCenter <- function(loop_file, res = 10000) {\n",
    "    (apa_file <- paste0(sample, \"/apa/\", loop_file, \"/\", res, \"/gw/rankAPA.txt\"))\n",
    "    if (file.exists(apa_file)) {\n",
    "        return(fread(cmd = paste0(\"cat \", apa_file, \"|sed 's/\\\\]//g;s/\\\\[//g'\"))[[11, \n",
    "            11]])\n",
    "    } else {\n",
    "        return(NA)\n",
    "    }\n",
    "    \n",
    "}\n",
    "\n",
    "calcAPA <- function(loop_file, res = 10000, corner_size = 6, type = \"rankAPA\") {\n",
    "    input_res <- paste0(sample, \"/apa/\", loop_file, \"/\", res, \"/gw/\", type, \".txt\")\n",
    "    if (file.exists(input_res)) {\n",
    "        input_res_apa <- fread(cmd = paste0(\"cat \", input_res, \"|sed 's/\\\\]//g;s/\\\\[//g'\"))\n",
    "        \n",
    "        dat <- c(input_res_apa[[11, 11]], input_res_apa[(21 - corner_size + 1):21, \n",
    "            1:corner_size] %>% as.matrix %>% as.vector)\n",
    "        # zscore <- (dat[1] - mean(dat[-1]))/sd(dat[-1])\n",
    "        apa <- dat[1]/mean(dat[-1])\n",
    "        return(apa)\n",
    "        # return(data.frame(APA = apa, Zscore = zscore))\n",
    "        \n",
    "    } else {\n",
    "        return(NA)\n",
    "    }  #return(data.frame(APA = NA, Zscore = NA)))\n",
    "}\n",
    "getAPApng <- function(idx, res = 10000, corner_size = 6, type = \"rankAPA\") {\n",
    "    apa_file <- paste0(sample, \"/apa/\", loop_stats$loop_file[idx], \"/\", res, \"/gw/\", \n",
    "        type, \".png\")\n",
    "    names(apa_file) <- loop_stats$loop_set[idx]\n",
    "    if (file.exists(apa_file)) {\n",
    "        return(apa_file)\n",
    "    } else {\n",
    "        return(NA)\n",
    "    }\n",
    "}"
   ]
  },
  {
   "cell_type": "code",
   "execution_count": 10,
   "metadata": {},
   "outputs": [
    {
     "data": {
      "text/html": [
       "<table>\n",
       "<caption>A data.frame: 7 × 7</caption>\n",
       "<thead>\n",
       "\t<tr><th scope=col>loop_set</th><th scope=col>rankAPA_r10k</th><th scope=col>rankAPA_r5k</th><th scope=col>APA_r10k</th><th scope=col>APA_r5k</th><th scope=col>center_percentle_r10k</th><th scope=col>center_percentle_r5k</th></tr>\n",
       "\t<tr><th scope=col>&lt;chr&gt;</th><th scope=col>&lt;dbl&gt;</th><th scope=col>&lt;dbl&gt;</th><th scope=col>&lt;dbl&gt;</th><th scope=col>&lt;dbl&gt;</th><th scope=col>&lt;dbl&gt;</th><th scope=col>&lt;dbl&gt;</th></tr>\n",
       "</thead>\n",
       "<tbody>\n",
       "\t<tr><td>cicero_05_10         </td><td>0.8026006</td><td>0.9725139</td><td>0.6983411</td><td>0.8527647</td><td>55.65331</td><td>51.45448</td></tr>\n",
       "\t<tr><td>cicero_10_15         </td><td>0.8176788</td><td>0.9970264</td><td>0.7083956</td><td>0.8718841</td><td>56.71751</td><td>52.67704</td></tr>\n",
       "\t<tr><td>cicero_15_20         </td><td>0.8261933</td><td>1.0012233</td><td>0.7130674</td><td>0.8731137</td><td>57.45793</td><td>53.29851</td></tr>\n",
       "\t<tr><td>cicero_gt_20         </td><td>0.8295752</td><td>1.0024924</td><td>0.7221319</td><td>0.8828889</td><td>57.21092</td><td>52.91346</td></tr>\n",
       "\t<tr><td>cicero_m05_05.r100000</td><td>0.7625917</td><td>0.9022093</td><td>0.6872435</td><td>0.8098058</td><td>51.89385</td><td>46.25398</td></tr>\n",
       "\t<tr><td>Islet_HiC            </td><td>1.6463838</td><td>1.6606024</td><td>2.7727761</td><td>2.2598343</td><td>92.94469</td><td>80.68784</td></tr>\n",
       "\t<tr><td>pcHiC                </td><td>1.2986967</td><td>1.2054302</td><td>1.3966691</td><td>1.1876392</td><td>81.60465</td><td>65.09227</td></tr>\n",
       "</tbody>\n",
       "</table>\n"
      ],
      "text/latex": [
       "A data.frame: 7 × 7\n",
       "\\begin{tabular}{r|lllllll}\n",
       " loop\\_set & rankAPA\\_r10k & rankAPA\\_r5k & APA\\_r10k & APA\\_r5k & center\\_percentle\\_r10k & center\\_percentle\\_r5k\\\\\n",
       " <chr> & <dbl> & <dbl> & <dbl> & <dbl> & <dbl> & <dbl>\\\\\n",
       "\\hline\n",
       "\t cicero\\_05\\_10          & 0.8026006 & 0.9725139 & 0.6983411 & 0.8527647 & 55.65331 & 51.45448\\\\\n",
       "\t cicero\\_10\\_15          & 0.8176788 & 0.9970264 & 0.7083956 & 0.8718841 & 56.71751 & 52.67704\\\\\n",
       "\t cicero\\_15\\_20          & 0.8261933 & 1.0012233 & 0.7130674 & 0.8731137 & 57.45793 & 53.29851\\\\\n",
       "\t cicero\\_gt\\_20          & 0.8295752 & 1.0024924 & 0.7221319 & 0.8828889 & 57.21092 & 52.91346\\\\\n",
       "\t cicero\\_m05\\_05.r100000 & 0.7625917 & 0.9022093 & 0.6872435 & 0.8098058 & 51.89385 & 46.25398\\\\\n",
       "\t Islet\\_HiC             & 1.6463838 & 1.6606024 & 2.7727761 & 2.2598343 & 92.94469 & 80.68784\\\\\n",
       "\t pcHiC                 & 1.2986967 & 1.2054302 & 1.3966691 & 1.1876392 & 81.60465 & 65.09227\\\\\n",
       "\\end{tabular}\n"
      ],
      "text/markdown": [
       "\n",
       "A data.frame: 7 × 7\n",
       "\n",
       "| loop_set &lt;chr&gt; | rankAPA_r10k &lt;dbl&gt; | rankAPA_r5k &lt;dbl&gt; | APA_r10k &lt;dbl&gt; | APA_r5k &lt;dbl&gt; | center_percentle_r10k &lt;dbl&gt; | center_percentle_r5k &lt;dbl&gt; |\n",
       "|---|---|---|---|---|---|---|\n",
       "| cicero_05_10          | 0.8026006 | 0.9725139 | 0.6983411 | 0.8527647 | 55.65331 | 51.45448 |\n",
       "| cicero_10_15          | 0.8176788 | 0.9970264 | 0.7083956 | 0.8718841 | 56.71751 | 52.67704 |\n",
       "| cicero_15_20          | 0.8261933 | 1.0012233 | 0.7130674 | 0.8731137 | 57.45793 | 53.29851 |\n",
       "| cicero_gt_20          | 0.8295752 | 1.0024924 | 0.7221319 | 0.8828889 | 57.21092 | 52.91346 |\n",
       "| cicero_m05_05.r100000 | 0.7625917 | 0.9022093 | 0.6872435 | 0.8098058 | 51.89385 | 46.25398 |\n",
       "| Islet_HiC             | 1.6463838 | 1.6606024 | 2.7727761 | 2.2598343 | 92.94469 | 80.68784 |\n",
       "| pcHiC                 | 1.2986967 | 1.2054302 | 1.3966691 | 1.1876392 | 81.60465 | 65.09227 |\n",
       "\n"
      ],
      "text/plain": [
       "  loop_set              rankAPA_r10k rankAPA_r5k APA_r10k  APA_r5k  \n",
       "1 cicero_05_10          0.8026006    0.9725139   0.6983411 0.8527647\n",
       "2 cicero_10_15          0.8176788    0.9970264   0.7083956 0.8718841\n",
       "3 cicero_15_20          0.8261933    1.0012233   0.7130674 0.8731137\n",
       "4 cicero_gt_20          0.8295752    1.0024924   0.7221319 0.8828889\n",
       "5 cicero_m05_05.r100000 0.7625917    0.9022093   0.6872435 0.8098058\n",
       "6 Islet_HiC             1.6463838    1.6606024   2.7727761 2.2598343\n",
       "7 pcHiC                 1.2986967    1.2054302   1.3966691 1.1876392\n",
       "  center_percentle_r10k center_percentle_r5k\n",
       "1 55.65331              51.45448            \n",
       "2 56.71751              52.67704            \n",
       "3 57.45793              53.29851            \n",
       "4 57.21092              52.91346            \n",
       "5 51.89385              46.25398            \n",
       "6 92.94469              80.68784            \n",
       "7 81.60465              65.09227            "
      ]
     },
     "metadata": {},
     "output_type": "display_data"
    }
   ],
   "source": [
    "loop_stats<- loop_stats %>%filter(!grepl('m1|m2',loop_set))\n",
    "loop_stats<- loop_stats%>%select(loop_set,loop_file,center_percentle)\n",
    "loop_stats$rankAPA_r10k <- sapply(loop_stats$loop_file, calcAPA)\n",
    "loop_stats$rankAPA_r5k <- sapply(loop_stats$loop_file, calcAPA, res = 5000)\n",
    "loop_stats$APA_r10k <- sapply(loop_stats$loop_file, calcAPA,type='APA')\n",
    "loop_stats$APA_r5k <- sapply(loop_stats$loop_file, calcAPA, res = 5000,type='APA')\n",
    "\n",
    "loop_stats$center_percentle_r10k <- sapply(loop_stats$loop_file, getCenter)\n",
    "loop_stats$center_percentle_r5k <- sapply(loop_stats$loop_file, getCenter, res = 5000)\n",
    "loop_stats %>% select(-loop_file, -center_percentle)"
   ]
  },
  {
   "cell_type": "code",
   "execution_count": 19,
   "metadata": {},
   "outputs": [],
   "source": [
    "glucose_high_apas <- sapply(1:nrow(loop_stats), getAPApng)\n",
    "glucose_high_apas_5k <- sapply(1:nrow(loop_stats), getAPApng, res = 5000)\n",
    "require(htmltools)\n",
    "thumbnail <- function(title = \"\", img, caption = TRUE, colsize = \"col-lg-2\") {\n",
    "    div(class = colsize, p(a(href = sub(\"png\", \"txt\", img), title), align = \"center\"), \n",
    "        a(herf = \"#\", class = \"thumbnail\", img(src = img, class = \"img-fluid\")))\n",
    "}\n",
    "tglist <- tagList(tags$link(rel = \"stylesheet\", href = \"https://maxcdn.bootstrapcdn.com/bootstrap/4.0.0-alpha.6/css/bootstrap.min.css\", \n",
    "    integrity = \"sha384-rwoIResjU2yc3z8GV/NPeZWAv56rSmLldC3R/AZzGRnGxQQKnKkoFVhFQhNUwEyJ\", \n",
    "    crossorigin = \"anonymous\"), div(class = \"row\", div(class = \"col-lg\", h3(\"10k resolution rankAPA\", \n",
    "    align = \"center\"))), p(), tags$div(class = \"row\", lapply(c(1:5, 7), function(i) (thumbnail(names(glucose_high_apas)[i], \n",
    "    glucose_high_apas[i]))) %>% tagList), hr())\n",
    "\n",
    "tglist2 <- tagList(div(class = \"row\", div(class = \"col-lg\", h3(\"5k resolution rankAPA\", \n",
    "    align = \"center\"))), p(), tags$div(class = \"row\", lapply(c(1:5, 7), function(i) (thumbnail(names(glucose_high_apas_5k)[i], \n",
    "    glucose_high_apas_5k[i]))) %>% tagList), hr())\n",
    "\n",
    "save_html(c(tglist, tglist2), \"rankAPA_compare_res.html\")"
   ]
  },
  {
   "cell_type": "code",
   "execution_count": 20,
   "metadata": {
    "scrolled": false
   },
   "outputs": [],
   "source": [
    "glucose_high_apas <- sapply(1:nrow(loop_stats), getAPApng, type = \"APA\")\n",
    "glucose_high_apas_5k <- sapply(1:nrow(loop_stats), getAPApng, type = \"APA\", res = 5000)\n",
    "tglist <- tagList(tags$link(rel = \"stylesheet\", href = \"https://maxcdn.bootstrapcdn.com/bootstrap/4.0.0-alpha.6/css/bootstrap.min.css\", \n",
    "    integrity = \"sha384-rwoIResjU2yc3z8GV/NPeZWAv56rSmLldC3R/AZzGRnGxQQKnKkoFVhFQhNUwEyJ\", \n",
    "    crossorigin = \"anonymous\"), div(class = \"row\", div(class = \"col-lg\", h3(\"10k resolution rankAPA\", \n",
    "    align = \"center\"))), p(), tags$div(class = \"row\", lapply(c(1:5, 7), function(i) (thumbnail(names(glucose_high_apas)[i], \n",
    "    glucose_high_apas[i]))) %>% tagList), hr())\n",
    "\n",
    "tglist2 <- tagList(div(class = \"row\", div(class = \"col-lg\", h3(\"5k resolution rankAPA\", \n",
    "    align = \"center\"))), p(), tags$div(class = \"row\", lapply(c(1:5, 7), function(i) (thumbnail(names(glucose_high_apas_5k)[i], \n",
    "    glucose_high_apas_5k[i]))) %>% tagList), hr())\n",
    "\n",
    "save_html(c(tglist, tglist2), \"APA_compare_res.html\")"
   ]
  }
 ],
 "metadata": {
  "kernelspec": {
   "display_name": "R",
   "language": "R",
   "name": "ir"
  },
  "language_info": {
   "codemirror_mode": "r",
   "file_extension": ".r",
   "mimetype": "text/x-r-source",
   "name": "R",
   "pygments_lexer": "r",
   "version": "3.5.1"
  }
 },
 "nbformat": 4,
 "nbformat_minor": 2
}
