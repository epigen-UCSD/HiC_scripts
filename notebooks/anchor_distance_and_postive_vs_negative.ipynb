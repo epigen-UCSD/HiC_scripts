{
 "cells": [
  {
   "cell_type": "code",
   "execution_count": 25,
   "metadata": {},
   "outputs": [],
   "source": [
    "source('./libs.R')\n",
    "setwd('../../')"
   ]
  },
  {
   "cell_type": "markdown",
   "metadata": {},
   "source": [
    "## On Distance"
   ]
  },
  {
   "cell_type": "code",
   "execution_count": 46,
   "metadata": {},
   "outputs": [
    {
     "data": {
      "text/html": [
       "<table>\n",
       "<caption>A data.frame: 9 × 2</caption>\n",
       "<thead>\n",
       "\t<tr><th scope=col>loop_set</th><th scope=col>loop_file</th></tr>\n",
       "\t<tr><th scope=col>&lt;fct&gt;</th><th scope=col>&lt;chr&gt;</th></tr>\n",
       "</thead>\n",
       "<tbody>\n",
       "\t<tr><td>cicero_gt_05.300k_500k</td><td>beta_1_beta_2.cicero_gt_05.300k_500k.bedpe                      </td></tr>\n",
       "\t<tr><td>cicero_gt_05.500k_750k</td><td>beta_1_beta_2.cicero_gt_05.500k_750k.bedpe                      </td></tr>\n",
       "\t<tr><td>cicero_gt_05.750k_1m  </td><td>beta_1_beta_2.cicero_gt_05.750k_1m.bedpe                        </td></tr>\n",
       "\t<tr><td>Islet_HiC.300k_500k   </td><td>greenwald_2019_loops.300k_500k.bedpe                            </td></tr>\n",
       "\t<tr><td>Islet_HiC.500k_750k   </td><td>greenwald_2019_loops.500k_750k.bedpe                            </td></tr>\n",
       "\t<tr><td>Islet_HiC.750k_1m     </td><td>greenwald_2019_loops.750k_1m.bedpe                              </td></tr>\n",
       "\t<tr><td>pcHiC.300k_500k       </td><td>islet_pcHiC.CHiCAGO_interactions.intrachromsomal.300k_500k.bedpe</td></tr>\n",
       "\t<tr><td>pcHiC.500k_750k       </td><td>islet_pcHiC.CHiCAGO_interactions.intrachromsomal.500k_750k.bedpe</td></tr>\n",
       "\t<tr><td>pcHiC.750k_1m         </td><td>islet_pcHiC.CHiCAGO_interactions.intrachromsomal.750k_1m.bedpe  </td></tr>\n",
       "</tbody>\n",
       "</table>\n"
      ],
      "text/latex": [
       "A data.frame: 9 × 2\n",
       "\\begin{tabular}{r|ll}\n",
       " loop\\_set & loop\\_file\\\\\n",
       " <fct> & <chr>\\\\\n",
       "\\hline\n",
       "\t cicero\\_gt\\_05.300k\\_500k & beta\\_1\\_beta\\_2.cicero\\_gt\\_05.300k\\_500k.bedpe                      \\\\\n",
       "\t cicero\\_gt\\_05.500k\\_750k & beta\\_1\\_beta\\_2.cicero\\_gt\\_05.500k\\_750k.bedpe                      \\\\\n",
       "\t cicero\\_gt\\_05.750k\\_1m   & beta\\_1\\_beta\\_2.cicero\\_gt\\_05.750k\\_1m.bedpe                        \\\\\n",
       "\t Islet\\_HiC.300k\\_500k    & greenwald\\_2019\\_loops.300k\\_500k.bedpe                            \\\\\n",
       "\t Islet\\_HiC.500k\\_750k    & greenwald\\_2019\\_loops.500k\\_750k.bedpe                            \\\\\n",
       "\t Islet\\_HiC.750k\\_1m      & greenwald\\_2019\\_loops.750k\\_1m.bedpe                              \\\\\n",
       "\t pcHiC.300k\\_500k        & islet\\_pcHiC.CHiCAGO\\_interactions.intrachromsomal.300k\\_500k.bedpe\\\\\n",
       "\t pcHiC.500k\\_750k        & islet\\_pcHiC.CHiCAGO\\_interactions.intrachromsomal.500k\\_750k.bedpe\\\\\n",
       "\t pcHiC.750k\\_1m          & islet\\_pcHiC.CHiCAGO\\_interactions.intrachromsomal.750k\\_1m.bedpe  \\\\\n",
       "\\end{tabular}\n"
      ],
      "text/markdown": [
       "\n",
       "A data.frame: 9 × 2\n",
       "\n",
       "| loop_set &lt;fct&gt; | loop_file &lt;chr&gt; |\n",
       "|---|---|\n",
       "| cicero_gt_05.300k_500k | beta_1_beta_2.cicero_gt_05.300k_500k.bedpe                       |\n",
       "| cicero_gt_05.500k_750k | beta_1_beta_2.cicero_gt_05.500k_750k.bedpe                       |\n",
       "| cicero_gt_05.750k_1m   | beta_1_beta_2.cicero_gt_05.750k_1m.bedpe                         |\n",
       "| Islet_HiC.300k_500k    | greenwald_2019_loops.300k_500k.bedpe                             |\n",
       "| Islet_HiC.500k_750k    | greenwald_2019_loops.500k_750k.bedpe                             |\n",
       "| Islet_HiC.750k_1m      | greenwald_2019_loops.750k_1m.bedpe                               |\n",
       "| pcHiC.300k_500k        | islet_pcHiC.CHiCAGO_interactions.intrachromsomal.300k_500k.bedpe |\n",
       "| pcHiC.500k_750k        | islet_pcHiC.CHiCAGO_interactions.intrachromsomal.500k_750k.bedpe |\n",
       "| pcHiC.750k_1m          | islet_pcHiC.CHiCAGO_interactions.intrachromsomal.750k_1m.bedpe   |\n",
       "\n"
      ],
      "text/plain": [
       "  loop_set              \n",
       "1 cicero_gt_05.300k_500k\n",
       "2 cicero_gt_05.500k_750k\n",
       "3 cicero_gt_05.750k_1m  \n",
       "4 Islet_HiC.300k_500k   \n",
       "5 Islet_HiC.500k_750k   \n",
       "6 Islet_HiC.750k_1m     \n",
       "7 pcHiC.300k_500k       \n",
       "8 pcHiC.500k_750k       \n",
       "9 pcHiC.750k_1m         \n",
       "  loop_file                                                       \n",
       "1 beta_1_beta_2.cicero_gt_05.300k_500k.bedpe                      \n",
       "2 beta_1_beta_2.cicero_gt_05.500k_750k.bedpe                      \n",
       "3 beta_1_beta_2.cicero_gt_05.750k_1m.bedpe                        \n",
       "4 greenwald_2019_loops.300k_500k.bedpe                            \n",
       "5 greenwald_2019_loops.500k_750k.bedpe                            \n",
       "6 greenwald_2019_loops.750k_1m.bedpe                              \n",
       "7 islet_pcHiC.CHiCAGO_interactions.intrachromsomal.300k_500k.bedpe\n",
       "8 islet_pcHiC.CHiCAGO_interactions.intrachromsomal.500k_750k.bedpe\n",
       "9 islet_pcHiC.CHiCAGO_interactions.intrachromsomal.750k_1m.bedpe  "
      ]
     },
     "metadata": {},
     "output_type": "display_data"
    },
    {
     "data": {
      "text/html": [
       "<dl class=dl-horizontal>\n",
       "\t<dt>cicero_gt_05.300k_500k</dt>\n",
       "\t\t<dd>'RMM_308_1_2_3/apa/beta_1_beta_2.cicero_gt_05.300k_500k.bedpe/10000/gw/rankAPA.png'</dd>\n",
       "\t<dt>cicero_gt_05.500k_750k</dt>\n",
       "\t\t<dd>'RMM_308_1_2_3/apa/beta_1_beta_2.cicero_gt_05.500k_750k.bedpe/10000/gw/rankAPA.png'</dd>\n",
       "\t<dt>cicero_gt_05.750k_1m</dt>\n",
       "\t\t<dd>'RMM_308_1_2_3/apa/beta_1_beta_2.cicero_gt_05.750k_1m.bedpe/10000/gw/rankAPA.png'</dd>\n",
       "\t<dt>Islet_HiC.300k_500k</dt>\n",
       "\t\t<dd>'RMM_308_1_2_3/apa/greenwald_2019_loops.300k_500k.bedpe/10000/gw/rankAPA.png'</dd>\n",
       "\t<dt>Islet_HiC.500k_750k</dt>\n",
       "\t\t<dd>'RMM_308_1_2_3/apa/greenwald_2019_loops.500k_750k.bedpe/10000/gw/rankAPA.png'</dd>\n",
       "\t<dt>Islet_HiC.750k_1m</dt>\n",
       "\t\t<dd>'RMM_308_1_2_3/apa/greenwald_2019_loops.750k_1m.bedpe/10000/gw/rankAPA.png'</dd>\n",
       "\t<dt>pcHiC.300k_500k</dt>\n",
       "\t\t<dd>'RMM_308_1_2_3/apa/islet_pcHiC.CHiCAGO_interactions.intrachromsomal.300k_500k.bedpe/10000/gw/rankAPA.png'</dd>\n",
       "\t<dt>pcHiC.500k_750k</dt>\n",
       "\t\t<dd>'RMM_308_1_2_3/apa/islet_pcHiC.CHiCAGO_interactions.intrachromsomal.500k_750k.bedpe/10000/gw/rankAPA.png'</dd>\n",
       "\t<dt>pcHiC.750k_1m</dt>\n",
       "\t\t<dd>'RMM_308_1_2_3/apa/islet_pcHiC.CHiCAGO_interactions.intrachromsomal.750k_1m.bedpe/10000/gw/rankAPA.png'</dd>\n",
       "\t<dt>cicero_gt_05.300k_500k</dt>\n",
       "\t\t<dd>'RMM_307_1_2_3/apa/beta_1_beta_2.cicero_gt_05.300k_500k.bedpe/10000/gw/rankAPA.png'</dd>\n",
       "\t<dt>cicero_gt_05.500k_750k</dt>\n",
       "\t\t<dd>'RMM_307_1_2_3/apa/beta_1_beta_2.cicero_gt_05.500k_750k.bedpe/10000/gw/rankAPA.png'</dd>\n",
       "\t<dt>cicero_gt_05.750k_1m</dt>\n",
       "\t\t<dd>'RMM_307_1_2_3/apa/beta_1_beta_2.cicero_gt_05.750k_1m.bedpe/10000/gw/rankAPA.png'</dd>\n",
       "\t<dt>Islet_HiC.300k_500k</dt>\n",
       "\t\t<dd>'RMM_307_1_2_3/apa/greenwald_2019_loops.300k_500k.bedpe/10000/gw/rankAPA.png'</dd>\n",
       "\t<dt>Islet_HiC.500k_750k</dt>\n",
       "\t\t<dd>'RMM_307_1_2_3/apa/greenwald_2019_loops.500k_750k.bedpe/10000/gw/rankAPA.png'</dd>\n",
       "\t<dt>Islet_HiC.750k_1m</dt>\n",
       "\t\t<dd>'RMM_307_1_2_3/apa/greenwald_2019_loops.750k_1m.bedpe/10000/gw/rankAPA.png'</dd>\n",
       "\t<dt>pcHiC.300k_500k</dt>\n",
       "\t\t<dd>'RMM_307_1_2_3/apa/islet_pcHiC.CHiCAGO_interactions.intrachromsomal.300k_500k.bedpe/10000/gw/rankAPA.png'</dd>\n",
       "\t<dt>pcHiC.500k_750k</dt>\n",
       "\t\t<dd>'RMM_307_1_2_3/apa/islet_pcHiC.CHiCAGO_interactions.intrachromsomal.500k_750k.bedpe/10000/gw/rankAPA.png'</dd>\n",
       "\t<dt>pcHiC.750k_1m</dt>\n",
       "\t\t<dd>'RMM_307_1_2_3/apa/islet_pcHiC.CHiCAGO_interactions.intrachromsomal.750k_1m.bedpe/10000/gw/rankAPA.png'</dd>\n",
       "</dl>\n"
      ],
      "text/latex": [
       "\\begin{description*}\n",
       "\\item[cicero\\textbackslash{}\\_gt\\textbackslash{}\\_05.300k\\textbackslash{}\\_500k] 'RMM\\_308\\_1\\_2\\_3/apa/beta\\_1\\_beta\\_2.cicero\\_gt\\_05.300k\\_500k.bedpe/10000/gw/rankAPA.png'\n",
       "\\item[cicero\\textbackslash{}\\_gt\\textbackslash{}\\_05.500k\\textbackslash{}\\_750k] 'RMM\\_308\\_1\\_2\\_3/apa/beta\\_1\\_beta\\_2.cicero\\_gt\\_05.500k\\_750k.bedpe/10000/gw/rankAPA.png'\n",
       "\\item[cicero\\textbackslash{}\\_gt\\textbackslash{}\\_05.750k\\textbackslash{}\\_1m] 'RMM\\_308\\_1\\_2\\_3/apa/beta\\_1\\_beta\\_2.cicero\\_gt\\_05.750k\\_1m.bedpe/10000/gw/rankAPA.png'\n",
       "\\item[Islet\\textbackslash{}\\_HiC.300k\\textbackslash{}\\_500k] 'RMM\\_308\\_1\\_2\\_3/apa/greenwald\\_2019\\_loops.300k\\_500k.bedpe/10000/gw/rankAPA.png'\n",
       "\\item[Islet\\textbackslash{}\\_HiC.500k\\textbackslash{}\\_750k] 'RMM\\_308\\_1\\_2\\_3/apa/greenwald\\_2019\\_loops.500k\\_750k.bedpe/10000/gw/rankAPA.png'\n",
       "\\item[Islet\\textbackslash{}\\_HiC.750k\\textbackslash{}\\_1m] 'RMM\\_308\\_1\\_2\\_3/apa/greenwald\\_2019\\_loops.750k\\_1m.bedpe/10000/gw/rankAPA.png'\n",
       "\\item[pcHiC.300k\\textbackslash{}\\_500k] 'RMM\\_308\\_1\\_2\\_3/apa/islet\\_pcHiC.CHiCAGO\\_interactions.intrachromsomal.300k\\_500k.bedpe/10000/gw/rankAPA.png'\n",
       "\\item[pcHiC.500k\\textbackslash{}\\_750k] 'RMM\\_308\\_1\\_2\\_3/apa/islet\\_pcHiC.CHiCAGO\\_interactions.intrachromsomal.500k\\_750k.bedpe/10000/gw/rankAPA.png'\n",
       "\\item[pcHiC.750k\\textbackslash{}\\_1m] 'RMM\\_308\\_1\\_2\\_3/apa/islet\\_pcHiC.CHiCAGO\\_interactions.intrachromsomal.750k\\_1m.bedpe/10000/gw/rankAPA.png'\n",
       "\\item[cicero\\textbackslash{}\\_gt\\textbackslash{}\\_05.300k\\textbackslash{}\\_500k] 'RMM\\_307\\_1\\_2\\_3/apa/beta\\_1\\_beta\\_2.cicero\\_gt\\_05.300k\\_500k.bedpe/10000/gw/rankAPA.png'\n",
       "\\item[cicero\\textbackslash{}\\_gt\\textbackslash{}\\_05.500k\\textbackslash{}\\_750k] 'RMM\\_307\\_1\\_2\\_3/apa/beta\\_1\\_beta\\_2.cicero\\_gt\\_05.500k\\_750k.bedpe/10000/gw/rankAPA.png'\n",
       "\\item[cicero\\textbackslash{}\\_gt\\textbackslash{}\\_05.750k\\textbackslash{}\\_1m] 'RMM\\_307\\_1\\_2\\_3/apa/beta\\_1\\_beta\\_2.cicero\\_gt\\_05.750k\\_1m.bedpe/10000/gw/rankAPA.png'\n",
       "\\item[Islet\\textbackslash{}\\_HiC.300k\\textbackslash{}\\_500k] 'RMM\\_307\\_1\\_2\\_3/apa/greenwald\\_2019\\_loops.300k\\_500k.bedpe/10000/gw/rankAPA.png'\n",
       "\\item[Islet\\textbackslash{}\\_HiC.500k\\textbackslash{}\\_750k] 'RMM\\_307\\_1\\_2\\_3/apa/greenwald\\_2019\\_loops.500k\\_750k.bedpe/10000/gw/rankAPA.png'\n",
       "\\item[Islet\\textbackslash{}\\_HiC.750k\\textbackslash{}\\_1m] 'RMM\\_307\\_1\\_2\\_3/apa/greenwald\\_2019\\_loops.750k\\_1m.bedpe/10000/gw/rankAPA.png'\n",
       "\\item[pcHiC.300k\\textbackslash{}\\_500k] 'RMM\\_307\\_1\\_2\\_3/apa/islet\\_pcHiC.CHiCAGO\\_interactions.intrachromsomal.300k\\_500k.bedpe/10000/gw/rankAPA.png'\n",
       "\\item[pcHiC.500k\\textbackslash{}\\_750k] 'RMM\\_307\\_1\\_2\\_3/apa/islet\\_pcHiC.CHiCAGO\\_interactions.intrachromsomal.500k\\_750k.bedpe/10000/gw/rankAPA.png'\n",
       "\\item[pcHiC.750k\\textbackslash{}\\_1m] 'RMM\\_307\\_1\\_2\\_3/apa/islet\\_pcHiC.CHiCAGO\\_interactions.intrachromsomal.750k\\_1m.bedpe/10000/gw/rankAPA.png'\n",
       "\\end{description*}\n"
      ],
      "text/markdown": [
       "cicero_gt_05.300k_500k\n",
       ":   'RMM_308_1_2_3/apa/beta_1_beta_2.cicero_gt_05.300k_500k.bedpe/10000/gw/rankAPA.png'cicero_gt_05.500k_750k\n",
       ":   'RMM_308_1_2_3/apa/beta_1_beta_2.cicero_gt_05.500k_750k.bedpe/10000/gw/rankAPA.png'cicero_gt_05.750k_1m\n",
       ":   'RMM_308_1_2_3/apa/beta_1_beta_2.cicero_gt_05.750k_1m.bedpe/10000/gw/rankAPA.png'Islet_HiC.300k_500k\n",
       ":   'RMM_308_1_2_3/apa/greenwald_2019_loops.300k_500k.bedpe/10000/gw/rankAPA.png'Islet_HiC.500k_750k\n",
       ":   'RMM_308_1_2_3/apa/greenwald_2019_loops.500k_750k.bedpe/10000/gw/rankAPA.png'Islet_HiC.750k_1m\n",
       ":   'RMM_308_1_2_3/apa/greenwald_2019_loops.750k_1m.bedpe/10000/gw/rankAPA.png'pcHiC.300k_500k\n",
       ":   'RMM_308_1_2_3/apa/islet_pcHiC.CHiCAGO_interactions.intrachromsomal.300k_500k.bedpe/10000/gw/rankAPA.png'pcHiC.500k_750k\n",
       ":   'RMM_308_1_2_3/apa/islet_pcHiC.CHiCAGO_interactions.intrachromsomal.500k_750k.bedpe/10000/gw/rankAPA.png'pcHiC.750k_1m\n",
       ":   'RMM_308_1_2_3/apa/islet_pcHiC.CHiCAGO_interactions.intrachromsomal.750k_1m.bedpe/10000/gw/rankAPA.png'cicero_gt_05.300k_500k\n",
       ":   'RMM_307_1_2_3/apa/beta_1_beta_2.cicero_gt_05.300k_500k.bedpe/10000/gw/rankAPA.png'cicero_gt_05.500k_750k\n",
       ":   'RMM_307_1_2_3/apa/beta_1_beta_2.cicero_gt_05.500k_750k.bedpe/10000/gw/rankAPA.png'cicero_gt_05.750k_1m\n",
       ":   'RMM_307_1_2_3/apa/beta_1_beta_2.cicero_gt_05.750k_1m.bedpe/10000/gw/rankAPA.png'Islet_HiC.300k_500k\n",
       ":   'RMM_307_1_2_3/apa/greenwald_2019_loops.300k_500k.bedpe/10000/gw/rankAPA.png'Islet_HiC.500k_750k\n",
       ":   'RMM_307_1_2_3/apa/greenwald_2019_loops.500k_750k.bedpe/10000/gw/rankAPA.png'Islet_HiC.750k_1m\n",
       ":   'RMM_307_1_2_3/apa/greenwald_2019_loops.750k_1m.bedpe/10000/gw/rankAPA.png'pcHiC.300k_500k\n",
       ":   'RMM_307_1_2_3/apa/islet_pcHiC.CHiCAGO_interactions.intrachromsomal.300k_500k.bedpe/10000/gw/rankAPA.png'pcHiC.500k_750k\n",
       ":   'RMM_307_1_2_3/apa/islet_pcHiC.CHiCAGO_interactions.intrachromsomal.500k_750k.bedpe/10000/gw/rankAPA.png'pcHiC.750k_1m\n",
       ":   'RMM_307_1_2_3/apa/islet_pcHiC.CHiCAGO_interactions.intrachromsomal.750k_1m.bedpe/10000/gw/rankAPA.png'\n",
       "\n"
      ],
      "text/plain": [
       "                                                                                   cicero_gt_05.300k_500k \n",
       "                      \"RMM_308_1_2_3/apa/beta_1_beta_2.cicero_gt_05.300k_500k.bedpe/10000/gw/rankAPA.png\" \n",
       "                                                                                   cicero_gt_05.500k_750k \n",
       "                      \"RMM_308_1_2_3/apa/beta_1_beta_2.cicero_gt_05.500k_750k.bedpe/10000/gw/rankAPA.png\" \n",
       "                                                                                     cicero_gt_05.750k_1m \n",
       "                        \"RMM_308_1_2_3/apa/beta_1_beta_2.cicero_gt_05.750k_1m.bedpe/10000/gw/rankAPA.png\" \n",
       "                                                                                      Islet_HiC.300k_500k \n",
       "                            \"RMM_308_1_2_3/apa/greenwald_2019_loops.300k_500k.bedpe/10000/gw/rankAPA.png\" \n",
       "                                                                                      Islet_HiC.500k_750k \n",
       "                            \"RMM_308_1_2_3/apa/greenwald_2019_loops.500k_750k.bedpe/10000/gw/rankAPA.png\" \n",
       "                                                                                        Islet_HiC.750k_1m \n",
       "                              \"RMM_308_1_2_3/apa/greenwald_2019_loops.750k_1m.bedpe/10000/gw/rankAPA.png\" \n",
       "                                                                                          pcHiC.300k_500k \n",
       "\"RMM_308_1_2_3/apa/islet_pcHiC.CHiCAGO_interactions.intrachromsomal.300k_500k.bedpe/10000/gw/rankAPA.png\" \n",
       "                                                                                          pcHiC.500k_750k \n",
       "\"RMM_308_1_2_3/apa/islet_pcHiC.CHiCAGO_interactions.intrachromsomal.500k_750k.bedpe/10000/gw/rankAPA.png\" \n",
       "                                                                                            pcHiC.750k_1m \n",
       "  \"RMM_308_1_2_3/apa/islet_pcHiC.CHiCAGO_interactions.intrachromsomal.750k_1m.bedpe/10000/gw/rankAPA.png\" \n",
       "                                                                                   cicero_gt_05.300k_500k \n",
       "                      \"RMM_307_1_2_3/apa/beta_1_beta_2.cicero_gt_05.300k_500k.bedpe/10000/gw/rankAPA.png\" \n",
       "                                                                                   cicero_gt_05.500k_750k \n",
       "                      \"RMM_307_1_2_3/apa/beta_1_beta_2.cicero_gt_05.500k_750k.bedpe/10000/gw/rankAPA.png\" \n",
       "                                                                                     cicero_gt_05.750k_1m \n",
       "                        \"RMM_307_1_2_3/apa/beta_1_beta_2.cicero_gt_05.750k_1m.bedpe/10000/gw/rankAPA.png\" \n",
       "                                                                                      Islet_HiC.300k_500k \n",
       "                            \"RMM_307_1_2_3/apa/greenwald_2019_loops.300k_500k.bedpe/10000/gw/rankAPA.png\" \n",
       "                                                                                      Islet_HiC.500k_750k \n",
       "                            \"RMM_307_1_2_3/apa/greenwald_2019_loops.500k_750k.bedpe/10000/gw/rankAPA.png\" \n",
       "                                                                                        Islet_HiC.750k_1m \n",
       "                              \"RMM_307_1_2_3/apa/greenwald_2019_loops.750k_1m.bedpe/10000/gw/rankAPA.png\" \n",
       "                                                                                          pcHiC.300k_500k \n",
       "\"RMM_307_1_2_3/apa/islet_pcHiC.CHiCAGO_interactions.intrachromsomal.300k_500k.bedpe/10000/gw/rankAPA.png\" \n",
       "                                                                                          pcHiC.500k_750k \n",
       "\"RMM_307_1_2_3/apa/islet_pcHiC.CHiCAGO_interactions.intrachromsomal.500k_750k.bedpe/10000/gw/rankAPA.png\" \n",
       "                                                                                            pcHiC.750k_1m \n",
       "  \"RMM_307_1_2_3/apa/islet_pcHiC.CHiCAGO_interactions.intrachromsomal.750k_1m.bedpe/10000/gw/rankAPA.png\" "
      ]
     },
     "metadata": {},
     "output_type": "display_data"
    }
   ],
   "source": [
    "(loop_stats <- data.frame(loop_set = c(\"cicero_gt_05.300k_500k\", \"cicero_gt_05.500k_750k\", \n",
    "    \"cicero_gt_05.750k_1m\")) %>% mutate(loop_file = paste0(\"beta_1_beta_2.\", loop_set, \n",
    "    \".bedpe\")) %>% rbind(data.frame(loop_set = c(\"Islet_HiC.300k_500k\", \"Islet_HiC.500k_750k\", \n",
    "    \"Islet_HiC.750k_1m\"), loop_file = c(\"greenwald_2019_loops.300k_500k.bedpe\", \"greenwald_2019_loops.500k_750k.bedpe\", \n",
    "    \"greenwald_2019_loops.750k_1m.bedpe\"))) %>% rbind(data.frame(loop_set = c(\"pcHiC.300k_500k\", \n",
    "    \"pcHiC.500k_750k\", \"pcHiC.750k_1m\"), loop_file = c(\"islet_pcHiC.CHiCAGO_interactions.intrachromsomal.300k_500k.bedpe\", \n",
    "    \"islet_pcHiC.CHiCAGO_interactions.intrachromsomal.500k_750k.bedpe\", \"islet_pcHiC.CHiCAGO_interactions.intrachromsomal.750k_1m.bedpe\"))))\n",
    "(res_pngs <- c(sapply(1:9, getAPApng), sapply(1:9, getAPApng, sample = \"RMM_307_1_2_3\")))"
   ]
  },
  {
   "cell_type": "code",
   "execution_count": 47,
   "metadata": {},
   "outputs": [],
   "source": [
    "require(htmltools)\n",
    "thumbnail <- function(title = \"\", img, caption = TRUE, colsize = \"col-lg-4\") {\n",
    "    div(class = colsize, p(a(href = sub(\"png\", \"txt\", img), title), align = \"center\"), \n",
    "        a(herf = \"#\", class = \"thumbnail\", img(src = img, class = \"img-fluid\")))\n",
    "}\n",
    "tglist <- tagList(tags$link(rel = \"stylesheet\", href = \"https://maxcdn.bootstrapcdn.com/bootstrap/4.0.0-alpha.6/css/bootstrap.min.css\", \n",
    "    integrity = \"sha384-rwoIResjU2yc3z8GV/NPeZWAv56rSmLldC3R/AZzGRnGxQQKnKkoFVhFQhNUwEyJ\", \n",
    "    crossorigin = \"anonymous\"), div(class = \"row\", div(class = \"col-lg\", h3(\"Low Glucose\", \n",
    "    align = \"center\"))), p(), tags$div(class = \"row\", lapply(1:9, function(i) (thumbnail(names(res_pngs)[i], \n",
    "    res_pngs[i]))) %>% tagList), hr())\n",
    "tglist2 <- tagList(div(class = \"row\", div(class = \"col-lg\", h3(\"High Glucose\", align = \"center\"))), \n",
    "    p(), tags$div(class = \"row\", lapply(c(10:18), function(i) (thumbnail(names(res_pngs)[i], \n",
    "        res_pngs[i]))) %>% tagList), hr())\n",
    "\n",
    "\n",
    "save_html(c(tglist, tglist2), \"dist_bin.html\")"
   ]
  },
  {
   "cell_type": "markdown",
   "metadata": {},
   "source": [
    "## With negative sets"
   ]
  },
  {
   "cell_type": "code",
   "execution_count": 38,
   "metadata": {},
   "outputs": [
    {
     "data": {
      "text/html": [
       "<table>\n",
       "<caption>A data.frame: 4 × 2</caption>\n",
       "<thead>\n",
       "\t<tr><th scope=col>loop_set</th><th scope=col>loop_file</th></tr>\n",
       "\t<tr><th scope=col>&lt;fct&gt;</th><th scope=col>&lt;chr&gt;</th></tr>\n",
       "</thead>\n",
       "<tbody>\n",
       "\t<tr><td>cicero_gt_05         </td><td>beta_1_beta_2.cicero_gt_05.bedpe         </td></tr>\n",
       "\t<tr><td>cicero_m05_05.r100000</td><td>beta_1_beta_2.cicero_m05_05.r100000.bedpe</td></tr>\n",
       "\t<tr><td>Islet_HiC            </td><td>greenwald_2019_loops.bedpe               </td></tr>\n",
       "\t<tr><td>pcHiC                </td><td>greenwald_2019_loops.bedpe               </td></tr>\n",
       "</tbody>\n",
       "</table>\n"
      ],
      "text/latex": [
       "A data.frame: 4 × 2\n",
       "\\begin{tabular}{r|ll}\n",
       " loop\\_set & loop\\_file\\\\\n",
       " <fct> & <chr>\\\\\n",
       "\\hline\n",
       "\t cicero\\_gt\\_05          & beta\\_1\\_beta\\_2.cicero\\_gt\\_05.bedpe         \\\\\n",
       "\t cicero\\_m05\\_05.r100000 & beta\\_1\\_beta\\_2.cicero\\_m05\\_05.r100000.bedpe\\\\\n",
       "\t Islet\\_HiC             & greenwald\\_2019\\_loops.bedpe               \\\\\n",
       "\t pcHiC                 & greenwald\\_2019\\_loops.bedpe               \\\\\n",
       "\\end{tabular}\n"
      ],
      "text/markdown": [
       "\n",
       "A data.frame: 4 × 2\n",
       "\n",
       "| loop_set &lt;fct&gt; | loop_file &lt;chr&gt; |\n",
       "|---|---|\n",
       "| cicero_gt_05          | beta_1_beta_2.cicero_gt_05.bedpe          |\n",
       "| cicero_m05_05.r100000 | beta_1_beta_2.cicero_m05_05.r100000.bedpe |\n",
       "| Islet_HiC             | greenwald_2019_loops.bedpe                |\n",
       "| pcHiC                 | greenwald_2019_loops.bedpe                |\n",
       "\n"
      ],
      "text/plain": [
       "  loop_set              loop_file                                \n",
       "1 cicero_gt_05          beta_1_beta_2.cicero_gt_05.bedpe         \n",
       "2 cicero_m05_05.r100000 beta_1_beta_2.cicero_m05_05.r100000.bedpe\n",
       "3 Islet_HiC             greenwald_2019_loops.bedpe               \n",
       "4 pcHiC                 greenwald_2019_loops.bedpe               "
      ]
     },
     "metadata": {},
     "output_type": "display_data"
    }
   ],
   "source": [
    "(loop_stats <- data.frame(loop_set = c(\"cicero_gt_05\", \"cicero_m05_05.r100000\")) %>% \n",
    "    mutate(loop_file = paste0(\"beta_1_beta_2.\", loop_set, \".bedpe\")) %>%rbind(data.frame(loop_set = c(\"Islet_HiC\", \n",
    "    \"pcHiC\"), loop_file = c(\"greenwald_2019_loops.bedpe\", \"greenwald_2019_loops.bedpe\"))))"
   ]
  },
  {
   "cell_type": "code",
   "execution_count": 39,
   "metadata": {},
   "outputs": [
    {
     "data": {
      "text/html": [
       "<dl class=dl-horizontal>\n",
       "\t<dt>cicero_gt_05</dt>\n",
       "\t\t<dd>'RMM_308_1_2_3/apa/beta_1_beta_2.cicero_gt_05.bedpe/10000/gw/rankAPA.png'</dd>\n",
       "\t<dt>cicero_m05_05.r100000</dt>\n",
       "\t\t<dd>'RMM_308_1_2_3/apa/beta_1_beta_2.cicero_m05_05.r100000.bedpe/10000/gw/rankAPA.png'</dd>\n",
       "\t<dt>Islet_HiC</dt>\n",
       "\t\t<dd>'RMM_308_1_2_3/apa/greenwald_2019_loops.bedpe/10000/gw/rankAPA.png'</dd>\n",
       "\t<dt>pcHiC</dt>\n",
       "\t\t<dd>'RMM_308_1_2_3/apa/greenwald_2019_loops.bedpe/10000/gw/rankAPA.png'</dd>\n",
       "\t<dt>cicero_gt_05</dt>\n",
       "\t\t<dd>'RMM_307_1_2_3/apa/beta_1_beta_2.cicero_gt_05.bedpe/10000/gw/rankAPA.png'</dd>\n",
       "\t<dt>cicero_m05_05.r100000</dt>\n",
       "\t\t<dd>'RMM_307_1_2_3/apa/beta_1_beta_2.cicero_m05_05.r100000.bedpe/10000/gw/rankAPA.png'</dd>\n",
       "\t<dt>Islet_HiC</dt>\n",
       "\t\t<dd>'RMM_307_1_2_3/apa/greenwald_2019_loops.bedpe/10000/gw/rankAPA.png'</dd>\n",
       "\t<dt>pcHiC</dt>\n",
       "\t\t<dd>'RMM_307_1_2_3/apa/greenwald_2019_loops.bedpe/10000/gw/rankAPA.png'</dd>\n",
       "</dl>\n"
      ],
      "text/latex": [
       "\\begin{description*}\n",
       "\\item[cicero\\textbackslash{}\\_gt\\textbackslash{}\\_05] 'RMM\\_308\\_1\\_2\\_3/apa/beta\\_1\\_beta\\_2.cicero\\_gt\\_05.bedpe/10000/gw/rankAPA.png'\n",
       "\\item[cicero\\textbackslash{}\\_m05\\textbackslash{}\\_05.r100000] 'RMM\\_308\\_1\\_2\\_3/apa/beta\\_1\\_beta\\_2.cicero\\_m05\\_05.r100000.bedpe/10000/gw/rankAPA.png'\n",
       "\\item[Islet\\textbackslash{}\\_HiC] 'RMM\\_308\\_1\\_2\\_3/apa/greenwald\\_2019\\_loops.bedpe/10000/gw/rankAPA.png'\n",
       "\\item[pcHiC] 'RMM\\_308\\_1\\_2\\_3/apa/greenwald\\_2019\\_loops.bedpe/10000/gw/rankAPA.png'\n",
       "\\item[cicero\\textbackslash{}\\_gt\\textbackslash{}\\_05] 'RMM\\_307\\_1\\_2\\_3/apa/beta\\_1\\_beta\\_2.cicero\\_gt\\_05.bedpe/10000/gw/rankAPA.png'\n",
       "\\item[cicero\\textbackslash{}\\_m05\\textbackslash{}\\_05.r100000] 'RMM\\_307\\_1\\_2\\_3/apa/beta\\_1\\_beta\\_2.cicero\\_m05\\_05.r100000.bedpe/10000/gw/rankAPA.png'\n",
       "\\item[Islet\\textbackslash{}\\_HiC] 'RMM\\_307\\_1\\_2\\_3/apa/greenwald\\_2019\\_loops.bedpe/10000/gw/rankAPA.png'\n",
       "\\item[pcHiC] 'RMM\\_307\\_1\\_2\\_3/apa/greenwald\\_2019\\_loops.bedpe/10000/gw/rankAPA.png'\n",
       "\\end{description*}\n"
      ],
      "text/markdown": [
       "cicero_gt_05\n",
       ":   'RMM_308_1_2_3/apa/beta_1_beta_2.cicero_gt_05.bedpe/10000/gw/rankAPA.png'cicero_m05_05.r100000\n",
       ":   'RMM_308_1_2_3/apa/beta_1_beta_2.cicero_m05_05.r100000.bedpe/10000/gw/rankAPA.png'Islet_HiC\n",
       ":   'RMM_308_1_2_3/apa/greenwald_2019_loops.bedpe/10000/gw/rankAPA.png'pcHiC\n",
       ":   'RMM_308_1_2_3/apa/greenwald_2019_loops.bedpe/10000/gw/rankAPA.png'cicero_gt_05\n",
       ":   'RMM_307_1_2_3/apa/beta_1_beta_2.cicero_gt_05.bedpe/10000/gw/rankAPA.png'cicero_m05_05.r100000\n",
       ":   'RMM_307_1_2_3/apa/beta_1_beta_2.cicero_m05_05.r100000.bedpe/10000/gw/rankAPA.png'Islet_HiC\n",
       ":   'RMM_307_1_2_3/apa/greenwald_2019_loops.bedpe/10000/gw/rankAPA.png'pcHiC\n",
       ":   'RMM_307_1_2_3/apa/greenwald_2019_loops.bedpe/10000/gw/rankAPA.png'\n",
       "\n"
      ],
      "text/plain": [
       "                                                                      cicero_gt_05 \n",
       "         \"RMM_308_1_2_3/apa/beta_1_beta_2.cicero_gt_05.bedpe/10000/gw/rankAPA.png\" \n",
       "                                                             cicero_m05_05.r100000 \n",
       "\"RMM_308_1_2_3/apa/beta_1_beta_2.cicero_m05_05.r100000.bedpe/10000/gw/rankAPA.png\" \n",
       "                                                                         Islet_HiC \n",
       "               \"RMM_308_1_2_3/apa/greenwald_2019_loops.bedpe/10000/gw/rankAPA.png\" \n",
       "                                                                             pcHiC \n",
       "               \"RMM_308_1_2_3/apa/greenwald_2019_loops.bedpe/10000/gw/rankAPA.png\" \n",
       "                                                                      cicero_gt_05 \n",
       "         \"RMM_307_1_2_3/apa/beta_1_beta_2.cicero_gt_05.bedpe/10000/gw/rankAPA.png\" \n",
       "                                                             cicero_m05_05.r100000 \n",
       "\"RMM_307_1_2_3/apa/beta_1_beta_2.cicero_m05_05.r100000.bedpe/10000/gw/rankAPA.png\" \n",
       "                                                                         Islet_HiC \n",
       "               \"RMM_307_1_2_3/apa/greenwald_2019_loops.bedpe/10000/gw/rankAPA.png\" \n",
       "                                                                             pcHiC \n",
       "               \"RMM_307_1_2_3/apa/greenwald_2019_loops.bedpe/10000/gw/rankAPA.png\" "
      ]
     },
     "metadata": {},
     "output_type": "display_data"
    }
   ],
   "source": [
    "(res_pngs <- c(sapply(1:4, getAPApng), sapply(1:4, getAPApng, sample = \"RMM_307_1_2_3\")))"
   ]
  },
  {
   "cell_type": "code",
   "execution_count": 41,
   "metadata": {},
   "outputs": [],
   "source": [
    "require(htmltools)\n",
    "thumbnail <- function(title = \"\", img, caption = TRUE, colsize = \"col-lg-3\") {\n",
    "    div(class = colsize, p(a(href = sub(\"png\", \"txt\", img), title), align = \"center\"), \n",
    "        a(herf = \"#\", class = \"thumbnail\", img(src = img, class = \"img-fluid\")))\n",
    "}\n",
    "tglist <- tagList(tags$link(rel = \"stylesheet\", href = \"https://maxcdn.bootstrapcdn.com/bootstrap/4.0.0-alpha.6/css/bootstrap.min.css\", \n",
    "    integrity = \"sha384-rwoIResjU2yc3z8GV/NPeZWAv56rSmLldC3R/AZzGRnGxQQKnKkoFVhFQhNUwEyJ\", \n",
    "    crossorigin = \"anonymous\"), div(class = \"row\", div(class = \"col-lg\", h3(\"Low Glucose\", \n",
    "    align = \"center\"))), p(), tags$div(class = \"row\", lapply(1:4, function(i) (thumbnail(names(res_pngs)[i], \n",
    "    res_pngs[i]))) %>% tagList), hr())\n",
    "\n",
    "tglist2 <- tagList(div(class = \"row\", div(class = \"col-lg\", h3(\"High Glucose\", align = \"center\"))), \n",
    "    p(), tags$div(class = \"row\", lapply(c(5:8), function(i) (thumbnail(names(res_pngs)[i], \n",
    "        res_pngs[i]))) %>% tagList), hr())\n",
    "\n",
    "\n",
    "save_html(c(tglist, tglist2), \"rankAPA_pos_vs_neg.html\")"
   ]
  }
 ],
 "metadata": {
  "kernelspec": {
   "display_name": "R",
   "language": "R",
   "name": "ir"
  },
  "language_info": {
   "codemirror_mode": "r",
   "file_extension": ".r",
   "mimetype": "text/x-r-source",
   "name": "R",
   "pygments_lexer": "r",
   "version": "3.5.1"
  }
 },
 "nbformat": 4,
 "nbformat_minor": 2
}
